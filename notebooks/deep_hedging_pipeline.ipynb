{
 "cells": [
  {
   "cell_type": "markdown",
   "metadata": {},
   "source": [
    "# Deep Hedging pipeline"
   ]
  },
  {
   "cell_type": "markdown",
   "metadata": {},
   "source": [
    "## Evironment setup"
   ]
  },
  {
   "cell_type": "markdown",
   "metadata": {},
   "source": [
    "Setup the general environment"
   ]
  },
  {
   "cell_type": "code",
   "execution_count": 1,
   "metadata": {},
   "outputs": [],
   "source": [
    "import os, sys\n",
    "from pathlib import Path\n",
    "\n",
    "main_folder = str(Path.cwd().parent)\n",
    "sys.path.append(main_folder)\n",
    "\n",
    "import warnings\n",
    "warnings.filterwarnings(\"ignore\")"
   ]
  },
  {
   "cell_type": "markdown",
   "metadata": {},
   "source": [
    "## Market simulator"
   ]
  },
  {
   "cell_type": "markdown",
   "metadata": {},
   "source": [
    "Simulation of the variable annuity features and market environment"
   ]
  },
  {
   "cell_type": "code",
   "execution_count": 2,
   "metadata": {},
   "outputs": [
    {
     "name": "stdout",
     "output_type": "stream",
     "text": [
      "-- Market simulation starts --\n",
      "--Progress of market simulation: 100.00%\n",
      "--Storing market features--\n",
      "\n",
      "-- Hedging instruments array stored --\n",
      "\n",
      "-- Gains and losses array stored --\n",
      "\n",
      "-- Deltas input array stored --\n",
      "\n",
      "-- Cash flow array stored --\n",
      "\n",
      "-- Input array stored --\n",
      "\n",
      "--Simulation of simulation features completed--\n",
      "-- Delta hedging computation starts --\n",
      "-- Progress of features computation: \n",
      " Shap:8-Simulation:1000-Time:239\n",
      "--Storing delta hedging features--\n",
      "--Delta hedging features computation completed--\n",
      "-- Positions computation starts --\n",
      "\n",
      "--Positions computation completed and stored--\n"
     ]
    }
   ],
   "source": [
    "from src.utils import *\n",
    "from src.features.market_simulator import *\n",
    "\n",
    "config_file = load_config(os.path.join(main_folder,'cfgs','config_market_simulation.yml'))\n",
    "market_model = market_simulator_class(config_file)\n",
    "market_model.simulation()\n",
    "market_model.delta_features()\n",
    "market_model.delta_hedging()"
   ]
  },
  {
   "cell_type": "markdown",
   "metadata": {},
   "source": [
    "## Deep Hedging "
   ]
  },
  {
   "cell_type": "markdown",
   "metadata": {},
   "source": [
    "Deep RL agent training and hedging strategy generation\n",
    "\n",
    "**Remark 1**: This segment of the pipeline assumes that the market environment and the CVaR network have already been simulated and trained, respectively. See notebook *cvarnet_pipeline.ipynb* for for more details.\n",
    "\n",
    "**Remark 2**: This training example illustrates the performance of the RL agent optimized under the assumption fund without local risk penalization. The corresponding results are reported in Table 3 of the paper.\n"
   ]
  },
  {
   "cell_type": "code",
   "execution_count": 3,
   "metadata": {},
   "outputs": [
    {
     "name": "stdout",
     "output_type": "stream",
     "text": [
      "-------------------------------------------------------------\n",
      "Deep_agent_FFNN_dropout_50_contribution_assupmtion_240_\n",
      "-------------------------------------------------------------\n",
      "-----------------------Training start------------------------\n",
      "Epoch 1, Time elapsed: 0:10:09.303139  - Model saved\n",
      "  Train - SMSE: 1446.450684, Time: 203.031113, Rate: 715.917297, Mortality: 717.076782, Local-CVaR: 0.000006\n",
      "  Valid - SMSE: 27.564274, Time: 4.069118, Rate: 11.823818, Mortality: 15.445654, Local-CVaR: 0.000006\n",
      "Epoch 2, Time elapsed: 0:16:19.605127  - Model saved\n",
      "  Train - SMSE: 4.116337, Time: 0.575670, Rate: 1.969488, Mortality: 1.953261, Local-CVaR: 0.044081\n",
      "  Valid - SMSE: 0.029771, Time: 0.004647, Rate: 0.013719, Mortality: 0.019578, Local-CVaR: 0.044081\n",
      "Epoch 3, Time elapsed: 0:22:58.319568  - Model saved\n",
      "  Train - SMSE: 0.008848, Time: 0.002057, Rate: 0.006450, Mortality: 0.007862, Local-CVaR: 0.046261\n",
      "  Valid - SMSE: 0.006661, Time: 0.001777, Rate: 0.004774, Mortality: 0.008009, Local-CVaR: 0.046261\n",
      "Epoch 4, Time elapsed: 0:30:03.517355  - Model saved\n",
      "  Train - SMSE: 0.007366, Time: 0.001783, Rate: 0.005827, Mortality: 0.007216, Local-CVaR: 0.046279\n",
      "  Valid - SMSE: 0.006554, Time: 0.001784, Rate: 0.004747, Mortality: 0.007940, Local-CVaR: 0.046279\n",
      "Epoch 5, Time elapsed: 0:37:06.000781  - Model saved\n",
      "  Train - SMSE: 0.007233, Time: 0.001774, Rate: 0.005785, Mortality: 0.007162, Local-CVaR: 0.046324\n",
      "  Valid - SMSE: 0.006421, Time: 0.001717, Rate: 0.004720, Mortality: 0.007909, Local-CVaR: 0.046324\n",
      "Epoch 6, Time elapsed: 0:43:42.028245  - Model saved\n",
      "  Train - SMSE: 0.007078, Time: 0.001758, Rate: 0.005739, Mortality: 0.007097, Local-CVaR: 0.046344\n",
      "  Valid - SMSE: 0.006269, Time: 0.001743, Rate: 0.004683, Mortality: 0.007808, Local-CVaR: 0.046344\n",
      "Epoch 7, Time elapsed: 0:50:12.096880  - Model saved\n",
      "  Train - SMSE: 0.006899, Time: 0.001745, Rate: 0.005686, Mortality: 0.007030, Local-CVaR: 0.046377\n",
      "  Valid - SMSE: 0.006098, Time: 0.001738, Rate: 0.004647, Mortality: 0.007716, Local-CVaR: 0.046377\n",
      "Epoch 8, Time elapsed: 0:56:51.284688  - Model saved\n",
      "  Train - SMSE: 0.006696, Time: 0.001732, Rate: 0.005630, Mortality: 0.006958, Local-CVaR: 0.046390\n",
      "  Valid - SMSE: 0.005913, Time: 0.001805, Rate: 0.004613, Mortality: 0.007582, Local-CVaR: 0.046390\n",
      "Epoch 9, Time elapsed: 1:03:39.958363  - Model saved\n",
      "  Train - SMSE: 0.006477, Time: 0.001718, Rate: 0.005571, Mortality: 0.006877, Local-CVaR: 0.046469\n",
      "  Valid - SMSE: 0.005685, Time: 0.001697, Rate: 0.004566, Mortality: 0.007538, Local-CVaR: 0.046469\n",
      "Epoch 10, Time elapsed: 1:10:31.113568  - Model saved\n",
      "  Train - SMSE: 0.006228, Time: 0.001700, Rate: 0.005503, Mortality: 0.006789, Local-CVaR: 0.046458\n",
      "  Valid - SMSE: 0.005476, Time: 0.001848, Rate: 0.004538, Mortality: 0.007361, Local-CVaR: 0.046458\n",
      "Epoch 11, Time elapsed: 1:17:07.367075  - Model saved\n",
      "  Train - SMSE: 0.005966, Time: 0.001689, Rate: 0.005439, Mortality: 0.006704, Local-CVaR: 0.046557\n",
      "  Valid - SMSE: 0.005195, Time: 0.001706, Rate: 0.004475, Mortality: 0.007309, Local-CVaR: 0.046557\n",
      "Epoch 12, Time elapsed: 1:23:41.743137  - Model saved\n",
      "  Train - SMSE: 0.005679, Time: 0.001668, Rate: 0.005360, Mortality: 0.006604, Local-CVaR: 0.046600\n",
      "  Valid - SMSE: 0.004936, Time: 0.001726, Rate: 0.004431, Mortality: 0.007170, Local-CVaR: 0.046600\n",
      "Epoch 13, Time elapsed: 1:30:41.683987  - Model saved\n",
      "  Train - SMSE: 0.005384, Time: 0.001652, Rate: 0.005289, Mortality: 0.006507, Local-CVaR: 0.046684\n",
      "  Valid - SMSE: 0.004650, Time: 0.001645, Rate: 0.004379, Mortality: 0.007089, Local-CVaR: 0.046684\n",
      "Epoch 14, Time elapsed: 1:38:15.385877  - Model saved\n",
      "  Train - SMSE: 0.005071, Time: 0.001632, Rate: 0.005208, Mortality: 0.006404, Local-CVaR: 0.046744\n",
      "  Valid - SMSE: 0.004359, Time: 0.001640, Rate: 0.004330, Mortality: 0.006964, Local-CVaR: 0.046744\n",
      "Epoch 15, Time elapsed: 1:45:32.873899  - Model saved\n",
      "  Train - SMSE: 0.004747, Time: 0.001618, Rate: 0.005128, Mortality: 0.006293, Local-CVaR: 0.046788\n",
      "  Valid - SMSE: 0.004059, Time: 0.001681, Rate: 0.004283, Mortality: 0.006808, Local-CVaR: 0.046788\n",
      "Epoch 16, Time elapsed: 1:52:40.861459  - Model saved\n",
      "  Train - SMSE: 0.004415, Time: 0.001603, Rate: 0.005043, Mortality: 0.006183, Local-CVaR: 0.046894\n",
      "  Valid - SMSE: 0.003746, Time: 0.001574, Rate: 0.004231, Mortality: 0.006735, Local-CVaR: 0.046894\n",
      "Epoch 17, Time elapsed: 1:59:18.349075  - Model saved\n",
      "  Train - SMSE: 0.004078, Time: 0.001587, Rate: 0.004960, Mortality: 0.006072, Local-CVaR: 0.047023\n",
      "  Valid - SMSE: 0.003482, Time: 0.001411, Rate: 0.004211, Mortality: 0.006716, Local-CVaR: 0.047023\n",
      "Epoch 18, Time elapsed: 2:06:12.159105  - Model saved\n",
      "  Train - SMSE: 0.003737, Time: 0.001570, Rate: 0.004871, Mortality: 0.005950, Local-CVaR: 0.047030\n",
      "  Valid - SMSE: 0.003115, Time: 0.001576, Rate: 0.004121, Mortality: 0.006451, Local-CVaR: 0.047030\n",
      "Epoch 19, Time elapsed: 2:12:51.687255  - Model saved\n",
      "  Train - SMSE: 0.003405, Time: 0.001559, Rate: 0.004782, Mortality: 0.005831, Local-CVaR: 0.047084\n",
      "  Valid - SMSE: 0.002808, Time: 0.001628, Rate: 0.004059, Mortality: 0.006284, Local-CVaR: 0.047084\n",
      "Epoch 20, Time elapsed: 2:19:46.587704  - Model saved\n",
      "  Train - SMSE: 0.003084, Time: 0.001548, Rate: 0.004687, Mortality: 0.005704, Local-CVaR: 0.047232\n",
      "  Valid - SMSE: 0.002554, Time: 0.001455, Rate: 0.004020, Mortality: 0.006246, Local-CVaR: 0.047232\n",
      "Epoch 21, Time elapsed: 2:26:33.097961  - Model saved\n",
      "  Train - SMSE: 0.002787, Time: 0.001539, Rate: 0.004588, Mortality: 0.005576, Local-CVaR: 0.047270\n",
      "  Valid - SMSE: 0.002269, Time: 0.001551, Rate: 0.003928, Mortality: 0.006033, Local-CVaR: 0.047270\n",
      "Epoch 22, Time elapsed: 2:33:18.636492  - Model saved\n",
      "  Train - SMSE: 0.002518, Time: 0.001526, Rate: 0.004490, Mortality: 0.005446, Local-CVaR: 0.047401\n",
      "  Valid - SMSE: 0.002062, Time: 0.001422, Rate: 0.003889, Mortality: 0.005968, Local-CVaR: 0.047401\n",
      "Epoch 23, Time elapsed: 2:40:07.265135  - Model saved\n",
      "  Train - SMSE: 0.002274, Time: 0.001518, Rate: 0.004386, Mortality: 0.005309, Local-CVaR: 0.047391\n",
      "  Valid - SMSE: 0.001818, Time: 0.001608, Rate: 0.003761, Mortality: 0.005679, Local-CVaR: 0.047391\n",
      "Epoch 24, Time elapsed: 2:47:07.572810  - Model saved\n",
      "  Train - SMSE: 0.002054, Time: 0.001498, Rate: 0.004276, Mortality: 0.005168, Local-CVaR: 0.047477\n",
      "  Valid - SMSE: 0.001639, Time: 0.001550, Rate: 0.003675, Mortality: 0.005530, Local-CVaR: 0.047477\n",
      "Epoch 25, Time elapsed: 2:54:02.144485  - Model saved\n",
      "  Train - SMSE: 0.001860, Time: 0.001485, Rate: 0.004168, Mortality: 0.005031, Local-CVaR: 0.047593\n",
      "  Valid - SMSE: 0.001485, Time: 0.001445, Rate: 0.003619, Mortality: 0.005430, Local-CVaR: 0.047593\n",
      "Epoch 26, Time elapsed: 3:00:52.155234  - Model saved\n",
      "  Train - SMSE: 0.001679, Time: 0.001468, Rate: 0.004047, Mortality: 0.004879, Local-CVaR: 0.047634\n",
      "  Valid - SMSE: 0.001326, Time: 0.001485, Rate: 0.003517, Mortality: 0.005220, Local-CVaR: 0.047634\n",
      "Epoch 27, Time elapsed: 3:07:40.061537  - Model saved\n",
      "  Train - SMSE: 0.001522, Time: 0.001447, Rate: 0.003932, Mortality: 0.004729, Local-CVaR: 0.047634\n",
      "  Valid - SMSE: 0.001177, Time: 0.001599, Rate: 0.003405, Mortality: 0.004970, Local-CVaR: 0.047634\n",
      "Epoch 28, Time elapsed: 3:14:44.190463  - Model saved\n",
      "  Train - SMSE: 0.001367, Time: 0.001448, Rate: 0.003804, Mortality: 0.004565, Local-CVaR: 0.047844\n",
      "  Valid - SMSE: 0.001094, Time: 0.001280, Rate: 0.003393, Mortality: 0.004985, Local-CVaR: 0.047844\n",
      "Epoch 29, Time elapsed: 3:21:59.728784  - Model saved\n",
      "  Train - SMSE: 0.001228, Time: 0.001423, Rate: 0.003679, Mortality: 0.004407, Local-CVaR: 0.047782\n",
      "  Valid - SMSE: 0.000940, Time: 0.001481, Rate: 0.003204, Mortality: 0.004609, Local-CVaR: 0.047782\n",
      "Epoch 30, Time elapsed: 3:29:30.263143  - Model saved\n",
      "  Train - SMSE: 0.001094, Time: 0.001408, Rate: 0.003542, Mortality: 0.004231, Local-CVaR: 0.047876\n",
      "  Valid - SMSE: 0.000827, Time: 0.001432, Rate: 0.003118, Mortality: 0.004443, Local-CVaR: 0.047876\n",
      "Epoch 31, Time elapsed: 3:35:59.203984  - Model saved\n",
      "  Train - SMSE: 0.000977, Time: 0.001383, Rate: 0.003414, Mortality: 0.004063, Local-CVaR: 0.047951\n",
      "  Valid - SMSE: 0.000728, Time: 0.001371, Rate: 0.003009, Mortality: 0.004241, Local-CVaR: 0.047951\n",
      "Epoch 32, Time elapsed: 3:42:44.137849  - Model saved\n",
      "  Train - SMSE: 0.000868, Time: 0.001365, Rate: 0.003295, Mortality: 0.003903, Local-CVaR: 0.047923\n",
      "  Valid - SMSE: 0.000618, Time: 0.001514, Rate: 0.002872, Mortality: 0.003940, Local-CVaR: 0.047923\n",
      "Epoch 33, Time elapsed: 3:49:22.449129  - Model saved\n",
      "  Train - SMSE: 0.000758, Time: 0.001345, Rate: 0.003143, Mortality: 0.003702, Local-CVaR: 0.048037\n",
      "  Valid - SMSE: 0.000522, Time: 0.001430, Rate: 0.002758, Mortality: 0.003732, Local-CVaR: 0.048037\n",
      "Epoch 34, Time elapsed: 3:55:48.089692  - Model saved\n",
      "  Train - SMSE: 0.000664, Time: 0.001306, Rate: 0.003009, Mortality: 0.003523, Local-CVaR: 0.048072\n",
      "  Valid - SMSE: 0.000438, Time: 0.001426, Rate: 0.002612, Mortality: 0.003450, Local-CVaR: 0.048072\n",
      "Epoch 35, Time elapsed: 4:02:13.715914  - Model saved\n",
      "  Train - SMSE: 0.000567, Time: 0.001280, Rate: 0.002842, Mortality: 0.003305, Local-CVaR: 0.048156\n",
      "  Valid - SMSE: 0.000354, Time: 0.001374, Rate: 0.002459, Mortality: 0.003167, Local-CVaR: 0.048156\n",
      "Epoch 36, Time elapsed: 4:08:37.696441  - Model saved\n",
      "  Train - SMSE: 0.000477, Time: 0.001244, Rate: 0.002668, Mortality: 0.003068, Local-CVaR: 0.048373\n",
      "  Valid - SMSE: 0.000281, Time: 0.001103, Rate: 0.002321, Mortality: 0.002933, Local-CVaR: 0.048373\n",
      "Epoch 37, Time elapsed: 4:15:16.381494  - Model saved\n",
      "  Train - SMSE: 0.000386, Time: 0.001132, Rate: 0.002327, Mortality: 0.002662, Local-CVaR: 0.048655\n",
      "  Valid - SMSE: 0.000176, Time: 0.000808, Rate: 0.001793, Mortality: 0.002238, Local-CVaR: 0.048655\n",
      "Epoch 38, Time elapsed: 4:21:44.249624  - Model saved\n",
      "  Train - SMSE: 0.000293, Time: 0.000866, Rate: 0.001933, Mortality: 0.002211, Local-CVaR: 0.048705\n",
      "  Valid - SMSE: 0.000117, Time: 0.000889, Rate: 0.001549, Mortality: 0.001900, Local-CVaR: 0.048705\n",
      "Epoch 39, Time elapsed: 4:28:23.172059  - Model saved\n",
      "  Train - SMSE: 0.000259, Time: 0.000830, Rate: 0.001811, Mortality: 0.002081, Local-CVaR: 0.048814\n",
      "  Valid - SMSE: 0.000098, Time: 0.000839, Rate: 0.001489, Mortality: 0.001810, Local-CVaR: 0.048814\n",
      "Epoch 40, Time elapsed: 4:34:52.824247  - Model saved\n",
      "  Train - SMSE: 0.000232, Time: 0.000819, Rate: 0.001739, Mortality: 0.001983, Local-CVaR: 0.048841\n",
      "  Valid - SMSE: 0.000092, Time: 0.000714, Rate: 0.001406, Mortality: 0.001701, Local-CVaR: 0.048841\n",
      "Epoch 41, Time elapsed: 4:41:34.976735  - Model saved\n",
      "  Train - SMSE: 0.000207, Time: 0.000791, Rate: 0.001635, Mortality: 0.001859, Local-CVaR: 0.049002\n",
      "  Valid - SMSE: 0.000076, Time: 0.000614, Rate: 0.001366, Mortality: 0.001620, Local-CVaR: 0.049002\n",
      "Epoch 42, Time elapsed: 4:48:17.566201  - Model saved\n",
      "  Train - SMSE: 0.000192, Time: 0.000721, Rate: 0.001500, Mortality: 0.001683, Local-CVaR: 0.048945\n",
      "  Valid - SMSE: 0.000064, Time: 0.000678, Rate: 0.001196, Mortality: 0.001393, Local-CVaR: 0.048945\n",
      "Epoch 43, Time elapsed: 4:55:03.397615  - Model saved\n",
      "  Train - SMSE: 0.000179, Time: 0.000662, Rate: 0.001391, Mortality: 0.001556, Local-CVaR: 0.048969\n",
      "  Valid - SMSE: 0.000056, Time: 0.000700, Rate: 0.001152, Mortality: 0.001330, Local-CVaR: 0.048969\n",
      "Epoch 44, Time elapsed: 5:01:40.594418  - Model saved\n",
      "  Train - SMSE: 0.000162, Time: 0.000641, Rate: 0.001330, Mortality: 0.001479, Local-CVaR: 0.049021\n",
      "  Valid - SMSE: 0.000050, Time: 0.000663, Rate: 0.001104, Mortality: 0.001259, Local-CVaR: 0.049021\n",
      "Epoch 45, Time elapsed: 5:08:19.817750  - Model saved\n",
      "  Train - SMSE: 0.000147, Time: 0.000623, Rate: 0.001271, Mortality: 0.001405, Local-CVaR: 0.049133\n",
      "  Valid - SMSE: 0.000051, Time: 0.000522, Rate: 0.001082, Mortality: 0.001235, Local-CVaR: 0.049133\n",
      "Epoch 46, Time elapsed: 5:15:21.822314  - Model saved\n",
      "  Train - SMSE: 0.000132, Time: 0.000598, Rate: 0.001205, Mortality: 0.001325, Local-CVaR: 0.049130\n",
      "  Valid - SMSE: 0.000043, Time: 0.000566, Rate: 0.001016, Mortality: 0.001132, Local-CVaR: 0.049130\n",
      "Epoch 47, Time elapsed: 5:22:08.033176  - Model saved\n",
      "  Train - SMSE: 0.000120, Time: 0.000583, Rate: 0.001154, Mortality: 0.001263, Local-CVaR: 0.049151\n",
      "  Valid - SMSE: 0.000037, Time: 0.000602, Rate: 0.000972, Mortality: 0.001067, Local-CVaR: 0.049151\n",
      "Epoch 48, Time elapsed: 5:28:59.534106  - Model saved\n",
      "  Train - SMSE: 0.000109, Time: 0.000561, Rate: 0.001092, Mortality: 0.001189, Local-CVaR: 0.049204\n",
      "  Valid - SMSE: 0.000036, Time: 0.000546, Rate: 0.000928, Mortality: 0.001008, Local-CVaR: 0.049204\n",
      "Epoch 49, Time elapsed: 5:36:01.374654  - Model saved\n",
      "  Train - SMSE: 0.000100, Time: 0.000539, Rate: 0.001036, Mortality: 0.001126, Local-CVaR: 0.049233\n",
      "  Valid - SMSE: 0.000031, Time: 0.000578, Rate: 0.000890, Mortality: 0.000953, Local-CVaR: 0.049233\n",
      "Epoch 50, Time elapsed: 5:43:16.601040  - Model saved\n",
      "  Train - SMSE: 0.000090, Time: 0.000525, Rate: 0.000985, Mortality: 0.001062, Local-CVaR: 0.049259\n",
      "  Valid - SMSE: 0.000032, Time: 0.000513, Rate: 0.000835, Mortality: 0.000876, Local-CVaR: 0.049259\n",
      "---Finished training results---\n",
      "Time elapsed: 5:43:16.608421\n",
      "---Training end---\n",
      "--- Deep agent trained and stored in ../models/.. ---\n"
     ]
    },
    {
     "name": "stderr",
     "output_type": "stream",
     "text": [
      "INFO:tensorflow:Restoring parameters from Deep_agent_FFNN_dropout_50_contribution_assupmtion_240_.ckpt\n"
     ]
    },
    {
     "name": "stdout",
     "output_type": "stream",
     "text": [
      "-------------------------------------------------------------\n",
      "Deep_agent_FFNN_dropout_50_contribution_assupmtion_240_\n",
      "-------------------------------------------------------------\n",
      "---Inference start---\n",
      "---Inference end---\n",
      "--- Hedging startegy stored in ../results/Training/.. ---\n",
      "--- Risk allocation metrics ---\n",
      "           Expectation  CVaR:95%  Variance\n",
      "Total         0.069920  0.082425  0.002944\n",
      "Equity        0.105309 -0.054518  0.000992\n",
      "Rate         -0.011857  0.061120  0.001004\n",
      "Mortality    -0.000890  0.053181  0.000948\n",
      "Time         -0.022643  0.022643  0.000000\n"
     ]
    }
   ],
   "source": [
    "from src.utils import *\n",
    "from src.models.deep_rl_training import rl_agent\n",
    "\n",
    "config_file = load_config(os.path.join(main_folder,'cfgs','config_agent.yml'))\n",
    "config_file_agent = config_file[\"agent\"]\n",
    "config_file = load_config(os.path.join(main_folder,'cfgs','config_market_simulation.yml'))\n",
    "config_file_simulation = config_file[\"simulation\"]\n",
    "\n",
    "_ = rl_agent(config_file_simulation,config_file_agent)"
   ]
  }
 ],
 "metadata": {
  "kernelspec": {
   "display_name": "venv",
   "language": "python",
   "name": "python3"
  },
  "language_info": {
   "codemirror_mode": {
    "name": "ipython",
    "version": 3
   },
   "file_extension": ".py",
   "mimetype": "text/x-python",
   "name": "python",
   "nbconvert_exporter": "python",
   "pygments_lexer": "ipython3",
   "version": "3.9.6"
  },
  "orig_nbformat": 4
 },
 "nbformat": 4,
 "nbformat_minor": 2
}
